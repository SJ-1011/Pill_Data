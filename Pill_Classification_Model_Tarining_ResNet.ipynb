{
  "nbformat": 4,
  "nbformat_minor": 0,
  "metadata": {
    "colab": {
      "provenance": [],
      "machine_shape": "hm",
      "gpuType": "T4",
      "authorship_tag": "ABX9TyPwATuyFm4qvPB6KhF0tU63",
      "include_colab_link": true
    },
    "kernelspec": {
      "name": "python3",
      "display_name": "Python 3"
    },
    "language_info": {
      "name": "python"
    },
    "accelerator": "GPU"
  },
  "cells": [
    {
      "cell_type": "markdown",
      "metadata": {
        "id": "view-in-github",
        "colab_type": "text"
      },
      "source": [
        "<a href=\"https://colab.research.google.com/github/SJ-1011/Pill_Data/blob/main/Pill_Classification_Model_Tarining_ResNet.ipynb\" target=\"_parent\"><img src=\"https://colab.research.google.com/assets/colab-badge.svg\" alt=\"Open In Colab\"/></a>"
      ]
    },
    {
      "cell_type": "code",
      "execution_count": null,
      "metadata": {
        "colab": {
          "base_uri": "https://localhost:8080/"
        },
        "id": "xIlEnNuf6OBM",
        "outputId": "08d8e5f9-2a18-405b-dcc9-3caec9de0f3d"
      },
      "outputs": [
        {
          "output_type": "stream",
          "name": "stdout",
          "text": [
            "Mounted at /content/gdrive\n"
          ]
        }
      ],
      "source": [
        "# 구글 드라이브 마운트\n",
        "from google.colab import drive\n",
        "drive.mount('/content/gdrive')"
      ]
    },
    {
      "cell_type": "code",
      "source": [
        "!pip install pkbar\n",
        "!pip install torchbearer"
      ],
      "metadata": {
        "collapsed": true,
        "id": "xEwiEYJAVmvX"
      },
      "execution_count": null,
      "outputs": []
    },
    {
      "cell_type": "markdown",
      "source": [
        "#### 이미지 split\n"
      ],
      "metadata": {
        "id": "kmW5YZfB9LrO"
      }
    },
    {
      "cell_type": "code",
      "source": [
        "import cv2\n",
        "import numpy as np\n",
        "import os\n",
        "\n",
        "\n",
        "import os\n",
        "import shutil\n",
        "from PIL import Image\n",
        "\n",
        "\n",
        "class Separate():\n",
        "    def __init__(self, config):\n",
        "        '''\n",
        "        filter_folder_path : filter image save path\n",
        "        folder_save_path : traing/validation/traing separate image folder save path\n",
        "        '''\n",
        "\n",
        "        self.open_path = config['save_path']\n",
        "        self.save_path = config['separate_path']\n",
        "\n",
        "\n",
        "    def FolderList(self):\n",
        "        type_list = []\n",
        "        folder_list = []\n",
        "\n",
        "        for (path, folder, files) in os.walk(self.open_path):\n",
        "            type_list.append(path)\n",
        "            folder_list.append(folder)\n",
        "\n",
        "        folders = ','.join(folder_list[0])\n",
        "        folder_list = folders.split(',')\n",
        "        type_list.pop(0)\n",
        "\n",
        "        return folder_list\n",
        "\n",
        "\n",
        "    def makeSubfolder(self, new_dir_path, folder_list):\n",
        "        for num in range(len(folder_list)):\n",
        "            os.makedirs(new_dir_path + folder_list[num])\n",
        "\n",
        "\n",
        "    def ml_directory(self, folder_list):\n",
        "        if not os.path.exists(self.save_path + 'training'):\n",
        "            os.makedirs(self.save_path + 'training')\n",
        "            self.makeSubfolder(self.save_path + 'training/', folder_list)\n",
        "\n",
        "        if not os.path.exists(self.save_path + 'testing'):\n",
        "            os.makedirs(self.save_path + 'testing')\n",
        "            self.makeSubfolder(self.save_path + 'testing/', folder_list)\n",
        "\n",
        "        if not os.path.exists(self.save_path + 'validation'):\n",
        "            os.makedirs(self.save_path + 'validation')\n",
        "            self.makeSubfolder(self.save_path + 'validation/', folder_list)\n",
        "\n",
        "\n",
        "    def separate(self, dir_path, x):\n",
        "        dirname = self.open_path + x\n",
        "        filenames = os.listdir(dirname)\n",
        "        i = 0\n",
        "        for filename in filenames:\n",
        "            full_filename = os.path.join(dirname, filename)\n",
        "\n",
        "            with Image.open(full_filename) as image:\n",
        "                if i % 10 < 7:\n",
        "                    training_directory = os.path.join(dir_path + 'training/', x)\n",
        "                    shutil.copyfile(full_filename, os.path.join(training_directory, filename))\n",
        "\n",
        "                elif i % 10 >= 7 and i % 10 < 8:\n",
        "                    validation_directory = os.path.join(dir_path + 'testing/', x)\n",
        "                    shutil.copyfile(full_filename, os.path.join(validation_directory, filename))\n",
        "\n",
        "                else:\n",
        "                    testing_directory = os.path.join(dir_path + 'validation/', x)\n",
        "                    shutil.copyfile(full_filename, os.path.join(testing_directory, filename))\n",
        "            i = i + 1\n",
        "            print(f'{filename} finish')\n",
        "\n",
        "\n",
        "    def separateProcess(self):\n",
        "        folder_list = self.FolderList()\n",
        "        self.ml_directory(folder_list)\n",
        "\n",
        "        for x in folder_list:\n",
        "            self.separate(self.save_path, x)\n",
        "\n",
        "import configparser\n",
        "import sys\n",
        "\n",
        "\n",
        "class PreprocessingMain():\n",
        "    def __init__(self):\n",
        "        self.config_file = '/content/gdrive/MyDrive/preprocessing.ini'\n",
        "\n",
        "    def main(self, argv):\n",
        "        # ex) python3 PreProcessing.py circle config.ini\n",
        "        self.config_file = argv[1]\n",
        "\n",
        "        shape = argv[0]\n",
        "\n",
        "        config = configparser.ConfigParser()\n",
        "        config.read(self.config_file, encoding='UTF-8')\n",
        "\n",
        "        self.Separate = Separate(config['img_processing'])\n",
        "\n",
        "        \"\"\" Image Separte\"\"\"\n",
        "        self.Separate.separateProcess()\n",
        "\n",
        "        print('####### finish #######')\n",
        "\n",
        "\n",
        "if __name__ == '__main__':\n",
        "    main_class = PreprocessingMain()\n",
        "    main_class.main(['none', '/content/gdrive/MyDrive/preprocessing.ini'])\n",
        "\n"
      ],
      "metadata": {
        "id": "Ppqwkcp_ShLD"
      },
      "execution_count": null,
      "outputs": []
    },
    {
      "cell_type": "markdown",
      "source": [
        "#### 이미지 Training\n"
      ],
      "metadata": {
        "id": "5P6QcCSLCYnF"
      }
    },
    {
      "cell_type": "code",
      "source": [
        "import torchvision\n",
        "from torch.utils.data import Dataset, DataLoader\n",
        "from torchvision import transforms, utils\n",
        "from sklearn.metrics import confusion_matrix, ConfusionMatrixDisplay\n",
        "import matplotlib.pyplot as plt\n",
        "\n",
        "# image file truncated error prevention\n",
        "from PIL import ImageFile\n",
        "from PIL import Image\n",
        "ImageFile.LOAD_TRUNCATED_IMAGES = True\n",
        "\n",
        "class ResizeAndPad(object):\n",
        "    def __init__(self, desired_size):\n",
        "        self.desired_size = desired_size\n",
        "\n",
        "    def __call__(self, image):\n",
        "        desired_width, desired_height = self.desired_size\n",
        "        original_width, original_height = image.size\n",
        "\n",
        "        # 비율 유지하여 리사이즈\n",
        "        ratio = min(desired_width / original_width, desired_height / original_height)\n",
        "        new_width = int(original_width * ratio)\n",
        "        new_height = int(original_height * ratio)\n",
        "        resized_image = image.resize((new_width, new_height), Image.LANCZOS)\n",
        "\n",
        "        # 새 이미지 생성 및 패딩\n",
        "        new_image = Image.new(\"RGB\", (desired_width, desired_height))\n",
        "        pad_left = (desired_width - new_width) // 2\n",
        "        pad_top = (desired_height - new_height) // 2\n",
        "        new_image.paste(resized_image, (pad_left, pad_top))\n",
        "\n",
        "        return new_image\n",
        "\n",
        "class PyTorchData():\n",
        "    def __init__(self, _dataType, config):\n",
        "        '''\n",
        "        input_dim : image size\n",
        "        data_path : training data path\n",
        "        batch_size : batch size\n",
        "        '''\n",
        "\n",
        "        if _dataType == \"data\":\n",
        "            self.m_DataDim = int(config['input_dim'])\n",
        "        elif _dataType == \"image\":\n",
        "            self.m_ImageDim = int(config['input_dim'])\n",
        "            self.m_DataPath = config['data_path']\n",
        "            self.m_BatchSize = int(config['batch_size'])\n",
        "\n",
        "\n",
        "    def ImageTrain(self):\n",
        "        # 이미지를 200x200으로 변환\n",
        "        transDatagen = transforms.Compose([ResizeAndPad((self.m_ImageDim, self.m_ImageDim)),\n",
        "                                           transforms.ToTensor()])\n",
        "\n",
        "        trainPath = self.m_DataPath + '/training'\n",
        "        trainFolder = torchvision.datasets.ImageFolder(root = trainPath,\n",
        "                                                       transform = transDatagen)\n",
        "\n",
        "        trainLoader = DataLoader(trainFolder,\n",
        "                                batch_size = self.m_BatchSize,\n",
        "                                shuffle = True)\n",
        "\n",
        "        print(\"Train Class [\", trainLoader.dataset.class_to_idx, \"]\")\n",
        "        print(\"Train Numbers [\", len(trainLoader.dataset.imgs), \"]\")\n",
        "        print(\"Train Batch Size [\", trainLoader.batch_size, \"]\")\n",
        "\n",
        "        return trainLoader\n",
        "\n",
        "\n",
        "    def ImageValidation(self):\n",
        "        transDatagen = transforms.Compose([ResizeAndPad((self.m_ImageDim, self.m_ImageDim)),\n",
        "                                           transforms.ToTensor()])\n",
        "\n",
        "        validationPath = self.m_DataPath + '/validation'\n",
        "        validationSet = torchvision.datasets.ImageFolder(root = validationPath,\n",
        "                                                         transform = transDatagen)\n",
        "\n",
        "        validationLoader = DataLoader(validationSet,\n",
        "                                      batch_size = self.m_BatchSize,\n",
        "                                      shuffle = False)\n",
        "\n",
        "        print(\"Validation Class [\", validationLoader.dataset.class_to_idx, \"]\")\n",
        "        print(\"Validation Numbers [\", len(validationLoader.dataset.imgs),\"]\")\n",
        "        print(\"Validation Batch Size [\", validationLoader.batch_size,\"]\")\n",
        "\n",
        "        return validationLoader\n",
        "\n",
        "\n",
        "    def ImageTest(self):\n",
        "        transDatagen = transforms.Compose([ResizeAndPad((self.m_ImageDim, self.m_ImageDim)),\n",
        "                                           transforms.ToTensor()])\n",
        "\n",
        "        testDirectory = self.m_DataPath + '/testing'\n",
        "        testSet = torchvision.datasets.ImageFolder(root = testDirectory,\n",
        "                                                   transform = transDatagen)\n",
        "\n",
        "        testLoader = DataLoader(testSet,\n",
        "                                batch_size = self.m_BatchSize,\n",
        "                                shuffle = False)\n",
        "\n",
        "        print(\"Test Class [\", testLoader.dataset.class_to_idx, \"]\")\n",
        "        print(\"Test Numbers [\", len(testLoader.dataset.imgs), \"]\")\n",
        "        print(\"Test Batch Size [\", testLoader.batch_size,\"]\")\n",
        "\n",
        "        return testLoader\n",
        "\n",
        "\n",
        "import torch\n",
        "import torch.nn as nn\n",
        "import pkbar\n",
        "import numpy as np\n",
        "import random\n",
        "import torchvision.models as models\n",
        "\n",
        "\n",
        "# seed fix\n",
        "SEED = 3\n",
        "np.random.seed(SEED)\n",
        "random.seed(SEED)\n",
        "torch.cuda.manual_seed(SEED)\n",
        "torch.cuda.manual_seed_all(SEED)\n",
        "torch.manual_seed(SEED)\n",
        "\n",
        "\n",
        "class PillModel(nn.Module):\n",
        "    # bulid cnn model\n",
        "    def __init__(self, config):\n",
        "        super(PillModel, self).__init__()\n",
        "        '''\n",
        "        ClassNum : class number\n",
        "        '''\n",
        "\n",
        "        self.m_ClassNum = int(config['class_num'])\n",
        "        # ResNet 모델 초기화\n",
        "        self.resnet = models.resnet18(pretrained=True)\n",
        "\n",
        "        # 마지막 fully connected layer의 출력 크기를 클래스 수에 맞게 조정\n",
        "        num_ftrs = self.resnet.fc.in_features\n",
        "        self.resnet.fc = nn.Linear(num_ftrs, self.m_ClassNum)\n",
        "\n",
        "\n",
        "    def forward(self, x):\n",
        "        # ResNet 모델의 forward pass 수행\n",
        "        x = self.resnet(x)\n",
        "        return x\n",
        "\n",
        "\n",
        "import torch.optim as optim\n",
        "import torchbearer\n",
        "from torchbearer import Trial\n",
        "import datetime\n",
        "\n",
        "\n",
        "class MakeModel():\n",
        "    def __init__(self,config):\n",
        "        '''\n",
        "        learning_rate : learning rate\n",
        "        epochs : epoch\n",
        "        save_path : save path\n",
        "        model_name : model save name\n",
        "        '''\n",
        "\n",
        "        self._epoch = int(config['epochs'])\n",
        "        self._lr = float(config['learning_rate'])\n",
        "        self._savePath = config['save_path']\n",
        "        self._modelName = config['model_name']\n",
        "\n",
        "\n",
        "    def SaveModel(self, _model, optimizer, _trainData, trainLoss):\n",
        "        nowdate = datetime.datetime.now().strftime('%y%m%d_%H')\n",
        "        ret = 0\n",
        "        try:\n",
        "            torch.save({'model_state_dict': _model.state_dict(),\n",
        "                        'epoch': self._epoch,\n",
        "                        'optimizer_state_dict': optimizer.state_dict(),\n",
        "                        'loss': trainLoss,\n",
        "                        'label_name':_trainData.dataset.classes},\n",
        "                        self._savePath + self._modelName + '_PyTorchModel.pt')\n",
        "            print(\"model saved [\", self._savePath +  self._modelName + \"_PyTorchModel.pt ]\")\n",
        "\n",
        "        except PermissionError:\n",
        "                torch.save(_model, './' + nowdate + '_' + self._modelName + '_PyTorchModel.pt')\n",
        "                print('model saved [ ./' + nowdate + '_' + self._modelName + '_PyTorchModel.pt ]')\n",
        "\n",
        "        except IOError as e:\n",
        "            print(\"IOError except: \", e.errno)\n",
        "            ret = 1\n",
        "\n",
        "        return ret\n",
        "\n",
        "\n",
        "    def Training(self, _device, _model, _trainData, _valData):\n",
        "        _model.train()\n",
        "\n",
        "        optimizer = optim.Adam(_model.parameters(), lr = self._lr)\n",
        "        criterion = torch.nn.CrossEntropyLoss()\n",
        "        bestValLoss = float('inf')\n",
        "\n",
        "        for epoch in range(self._epoch):\n",
        "            trainLoss = 0.0\n",
        "            trainSize = 0.0\n",
        "            trainCorrect = 0.0\n",
        "\n",
        "            print(\"Epoch {}/{}\".format(epoch + 1, self._epoch))\n",
        "            progress = pkbar.Kbar(target=len(_trainData), width = 25)\n",
        "\n",
        "            # train\n",
        "            for batchIdx, data in enumerate(_trainData):\n",
        "                images, labels = data\n",
        "                images, labels = images.to(_device), labels.to(_device)\n",
        "\n",
        "                optimizer.zero_grad()\n",
        "                outputs = _model(images)\n",
        "\n",
        "                loss = criterion(outputs, labels)\n",
        "                loss.backward()\n",
        "                optimizer.step()\n",
        "                trainLoss = loss.item()\n",
        "\n",
        "                _, predicted = outputs.max(1)\n",
        "                trainSize += labels.shape[0]\n",
        "                trainCorrect += predicted.eq(labels.view_as(predicted)).sum().item()\n",
        "                trainAccuracy = 100 * trainCorrect / trainSize\n",
        "\n",
        "                progress.update(batchIdx, values = [(\"loss: \", trainLoss), (\"acc: \", trainAccuracy)])\n",
        "\n",
        "                del loss\n",
        "                del outputs\n",
        "\n",
        "            # validation\n",
        "            with torch.no_grad():\n",
        "                valLoss = 0.0\n",
        "                valSize = 0.0\n",
        "                valCorrect = 0.0\n",
        "\n",
        "                for batchIdx, data in enumerate(_valData):\n",
        "                    images, labels = data\n",
        "                    images, labels = images.to(_device), labels.to(_device)\n",
        "\n",
        "                    outputs = _model(images)\n",
        "                    valLoss = criterion(outputs, labels).item()\n",
        "\n",
        "                    _, predicted = outputs.max(1)\n",
        "                    valSize += labels.shape[0]\n",
        "\n",
        "                    valCorrect += predicted.eq(labels.view_as(predicted)).sum().item()\n",
        "                    valAccuracy = 100 * valCorrect / valSize\n",
        "\n",
        "                progress.add(1, values=[(\"val loss\", valLoss), (\"val acc\", valAccuracy)])\n",
        "\n",
        "            # if best loss value, save model\n",
        "            if valLoss < bestValLoss:\n",
        "                bestValLoss = valLoss\n",
        "                ret = self.SaveModel(_model, optimizer, _trainData, trainLoss)\n",
        "\n",
        "        return ret\n",
        "\n",
        "\n",
        "    # test set model test\n",
        "    def Testing(self, _device, _model, _testData):\n",
        "        _model.eval()\n",
        "        criterion = torch.nn.CrossEntropyLoss()\n",
        "\n",
        "        testLoss = 0.0\n",
        "        testSize = 0.0\n",
        "        testCorrect = 0.0\n",
        "        all_labels = []\n",
        "        all_predictions = []\n",
        "\n",
        "        progress = pkbar.Kbar(target=len(_testData), width=25)\n",
        "\n",
        "        with torch.no_grad():\n",
        "            for batchIdx, data in enumerate(_testData):\n",
        "                images, labels = data\n",
        "                images, labels = images.to(_device), labels.to(_device)\n",
        "                outputs = _model(images)\n",
        "\n",
        "                loss = criterion(outputs, labels).item()\n",
        "                testLoss += loss\n",
        "\n",
        "                _, predicted = outputs.data.max(1)\n",
        "                all_labels.extend(labels.cpu().numpy())\n",
        "                all_predictions.extend(predicted.cpu().numpy())\n",
        "\n",
        "                testSize += labels.shape[0]\n",
        "                testCorrect += predicted.eq(labels.view_as(predicted)).sum().item()\n",
        "                accuracy = 100 * testCorrect / testSize\n",
        "\n",
        "                progress.update(batchIdx, values=[(\"test loss: \", testLoss / (batchIdx + 1)), (\"test acc: \", accuracy)])\n",
        "\n",
        "            testLoss /= len(_testData.dataset)\n",
        "        progress.add(1)\n",
        "\n",
        "        # Confusion Matrix\n",
        "        cm = confusion_matrix(all_labels, all_predictions)\n",
        "        disp = ConfusionMatrixDisplay(confusion_matrix=cm)\n",
        "        disp.plot(cmap=plt.cm.Blues)\n",
        "        plt.title('Confusion Matrix')\n",
        "        plt.show()\n",
        "\n",
        "\n",
        "\n",
        "\n",
        "import torch\n",
        "import configparser\n",
        "import torch.nn as nn\n",
        "\n",
        "\n",
        "class PyTorchMain():\n",
        "    def __init__(self):\n",
        "        config = configparser.ConfigParser()\n",
        "        config.read('/content/gdrive/MyDrive/modeling_config.ini', encoding='UTF-8')\n",
        "\n",
        "        self.m_Device = 'cuda' if torch.cuda.is_available() else 'cpu'\n",
        "        print(f'[Device]: {self.m_Device}')\n",
        "\n",
        "        self.m_cPytorchModel = PillModel(config['PT_model_info'])\n",
        "\n",
        "        self.m_cPytorchData = PyTorchData(\"image\", config['PT_model_info'])\n",
        "\n",
        "        self.m_cMakeModel = MakeModel(config['PT_model_info'])\n",
        "\n",
        "\n",
        "    def main(self):\n",
        "        print(\"\\n[ Model ]\\n\")\n",
        "        model = self.m_cPytorchModel.to(self.m_Device)\n",
        "        print(model)\n",
        "\n",
        "        # load dataset\n",
        "        print(\"\\n[ Data ]\\n\")\n",
        "        trainData = self.m_cPytorchData.ImageTrain()\n",
        "        valData = self.m_cPytorchData.ImageValidation()\n",
        "        testData = self.m_cPytorchData.ImageTest()\n",
        "\n",
        "        # training\n",
        "        print(\"\\n[ Training ]\\n\")\n",
        "        ret = self.m_cMakeModel.Training(_device = self.m_Device,\n",
        "                                         _model = model,\n",
        "                                         _trainData = trainData,\n",
        "                                         _valData = valData)\n",
        "        if ret == 0 or ret == 1:\n",
        "            # testing\n",
        "            print(\"\\n[ Testing ]\\n\")\n",
        "            self.m_cMakeModel.Testing(_device = self.m_Device,\n",
        "                                      _model = model,\n",
        "                                      _testData = testData)\n",
        "\n",
        "\n",
        "if __name__ == '__main__':\n",
        "    mainClass = PyTorchMain()\n",
        "    mainClass.main()\n"
      ],
      "metadata": {
        "colab": {
          "base_uri": "https://localhost:8080/",
          "height": 999
        },
        "id": "Fqw_bdLsWv5F",
        "outputId": "8f26aec7-a7fc-470f-f889-9bd36613d0b4"
      },
      "execution_count": null,
      "outputs": [
        {
          "output_type": "stream",
          "name": "stdout",
          "text": [
            "[Device]: cuda\n",
            "\n",
            "[ Model ]\n",
            "\n",
            "PillModel(\n",
            "  (m_Conv1): Conv2d(3, 16, kernel_size=(3, 3), stride=(1, 1), padding=(1, 1))\n",
            "  (m_Pool1): MaxPool2d(kernel_size=2, stride=2, padding=0, dilation=1, ceil_mode=False)\n",
            "  (m_Conv2): Conv2d(16, 32, kernel_size=(3, 3), stride=(1, 1), padding=(1, 1))\n",
            "  (m_Pool2): MaxPool2d(kernel_size=2, stride=2, padding=0, dilation=1, ceil_mode=False)\n",
            "  (m_Conv3): Conv2d(32, 64, kernel_size=(3, 3), stride=(1, 1), padding=(1, 1))\n",
            "  (m_Pool3): MaxPool2d(kernel_size=2, stride=2, padding=0, dilation=1, ceil_mode=False)\n",
            "  (m_Linear4): Linear(in_features=246016, out_features=256, bias=True)\n",
            "  (m_Drop4): Dropout2d(p=0.5, inplace=False)\n",
            "  (m_Linear5): Linear(in_features=256, out_features=20, bias=True)\n",
            "  (m_Relu): ReLU()\n",
            ")\n",
            "\n",
            "[ Data ]\n",
            "\n",
            "Train Class [ {'196000001': 0, '196500004': 1, '199502575': 2, '200008571': 3, '200402485': 4, '200402928': 5, '200404719': 6, '200410999': 7, '200600116': 8, '200702709': 9, '200702970': 10, '200806299': 11, '201207004': 12, '201403243': 13, '201503295': 14, '201701435': 15, '201705221': 16, '201901014': 17, '201906965': 18, '201907607': 19} ]\n",
            "Train Numbers [ 5600 ]\n",
            "Train Batch Size [ 64 ]\n",
            "Validation Class [ {'196000001': 0, '196500004': 1, '199502575': 2, '200008571': 3, '200402485': 4, '200402928': 5, '200404719': 6, '200410999': 7, '200600116': 8, '200702709': 9, '200702970': 10, '200806299': 11, '201207004': 12, '201403243': 13, '201503295': 14, '201701435': 15, '201705221': 16, '201901014': 17, '201906965': 18, '201907607': 19} ]\n",
            "Validation Numbers [ 1200 ]\n",
            "Validation Batch Size [ 64 ]\n",
            "Test Class [ {'196000001': 0, '196500004': 1, '199502575': 2, '200008571': 3, '200402485': 4, '200402928': 5, '200404719': 6, '200410999': 7, '200600116': 8, '200702709': 9, '200702970': 10, '200806299': 11, '201207004': 12, '201403243': 13, '201503295': 14, '201701435': 15, '201705221': 16, '201901014': 17, '201906965': 18, '201907607': 19} ]\n",
            "Test Numbers [ 1200 ]\n",
            "Test Batch Size [ 64 ]\n",
            "\n",
            "[ Training ]\n",
            "\n",
            "Epoch 1/10\n"
          ]
        },
        {
          "output_type": "stream",
          "name": "stderr",
          "text": [
            "/usr/local/lib/python3.10/dist-packages/torch/nn/functional.py:1374: UserWarning: dropout2d: Received a 2-D input to dropout2d, which is deprecated and will result in an error in a future release. To retain the behavior and silence this warning, please use dropout instead. Note that dropout2d exists to provide channel-wise dropout on inputs with 2 spatial dimensions, a channel dimension, and an optional batch dimension (i.e. 3D or 4D inputs).\n",
            "  warnings.warn(warn_msg)\n"
          ]
        },
        {
          "output_type": "stream",
          "name": "stdout",
          "text": [
            " 7/88 [>........................] - ETA: 1:11:52 - loss: : 3.0436 - acc: : 6.9417"
          ]
        },
        {
          "output_type": "error",
          "ename": "KeyboardInterrupt",
          "evalue": "",
          "traceback": [
            "\u001b[0;31m---------------------------------------------------------------------------\u001b[0m",
            "\u001b[0;31mKeyboardInterrupt\u001b[0m                         Traceback (most recent call last)",
            "\u001b[0;32m<ipython-input-4-9118b83a28b4>\u001b[0m in \u001b[0;36m<cell line: 397>\u001b[0;34m()\u001b[0m\n\u001b[1;32m    397\u001b[0m \u001b[0;32mif\u001b[0m \u001b[0m__name__\u001b[0m \u001b[0;34m==\u001b[0m \u001b[0;34m'__main__'\u001b[0m\u001b[0;34m:\u001b[0m\u001b[0;34m\u001b[0m\u001b[0;34m\u001b[0m\u001b[0m\n\u001b[1;32m    398\u001b[0m     \u001b[0mmainClass\u001b[0m \u001b[0;34m=\u001b[0m \u001b[0mPyTorchMain\u001b[0m\u001b[0;34m(\u001b[0m\u001b[0;34m)\u001b[0m\u001b[0;34m\u001b[0m\u001b[0;34m\u001b[0m\u001b[0m\n\u001b[0;32m--> 399\u001b[0;31m     \u001b[0mmainClass\u001b[0m\u001b[0;34m.\u001b[0m\u001b[0mmain\u001b[0m\u001b[0;34m(\u001b[0m\u001b[0;34m)\u001b[0m\u001b[0;34m\u001b[0m\u001b[0;34m\u001b[0m\u001b[0m\n\u001b[0m",
            "\u001b[0;32m<ipython-input-4-9118b83a28b4>\u001b[0m in \u001b[0;36mmain\u001b[0;34m(self)\u001b[0m\n\u001b[1;32m    383\u001b[0m         \u001b[0;31m# training\u001b[0m\u001b[0;34m\u001b[0m\u001b[0;34m\u001b[0m\u001b[0m\n\u001b[1;32m    384\u001b[0m         \u001b[0mprint\u001b[0m\u001b[0;34m(\u001b[0m\u001b[0;34m\"\\n[ Training ]\\n\"\u001b[0m\u001b[0;34m)\u001b[0m\u001b[0;34m\u001b[0m\u001b[0;34m\u001b[0m\u001b[0m\n\u001b[0;32m--> 385\u001b[0;31m         ret = self.m_cMakeModel.Training(_device = self.m_Device,\n\u001b[0m\u001b[1;32m    386\u001b[0m                                          \u001b[0m_model\u001b[0m \u001b[0;34m=\u001b[0m \u001b[0mmodel\u001b[0m\u001b[0;34m,\u001b[0m\u001b[0;34m\u001b[0m\u001b[0;34m\u001b[0m\u001b[0m\n\u001b[1;32m    387\u001b[0m                                          \u001b[0m_trainData\u001b[0m \u001b[0;34m=\u001b[0m \u001b[0mtrainData\u001b[0m\u001b[0;34m,\u001b[0m\u001b[0;34m\u001b[0m\u001b[0;34m\u001b[0m\u001b[0m\n",
            "\u001b[0;32m<ipython-input-4-9118b83a28b4>\u001b[0m in \u001b[0;36mTraining\u001b[0;34m(self, _device, _model, _trainData, _valData)\u001b[0m\n\u001b[1;32m    254\u001b[0m \u001b[0;34m\u001b[0m\u001b[0m\n\u001b[1;32m    255\u001b[0m             \u001b[0;31m# train\u001b[0m\u001b[0;34m\u001b[0m\u001b[0;34m\u001b[0m\u001b[0m\n\u001b[0;32m--> 256\u001b[0;31m             \u001b[0;32mfor\u001b[0m \u001b[0mbatchIdx\u001b[0m\u001b[0;34m,\u001b[0m \u001b[0mdata\u001b[0m \u001b[0;32min\u001b[0m \u001b[0menumerate\u001b[0m\u001b[0;34m(\u001b[0m\u001b[0m_trainData\u001b[0m\u001b[0;34m)\u001b[0m\u001b[0;34m:\u001b[0m\u001b[0;34m\u001b[0m\u001b[0;34m\u001b[0m\u001b[0m\n\u001b[0m\u001b[1;32m    257\u001b[0m                 \u001b[0mimages\u001b[0m\u001b[0;34m,\u001b[0m \u001b[0mlabels\u001b[0m \u001b[0;34m=\u001b[0m \u001b[0mdata\u001b[0m\u001b[0;34m\u001b[0m\u001b[0;34m\u001b[0m\u001b[0m\n\u001b[1;32m    258\u001b[0m                 \u001b[0mimages\u001b[0m\u001b[0;34m,\u001b[0m \u001b[0mlabels\u001b[0m \u001b[0;34m=\u001b[0m \u001b[0mimages\u001b[0m\u001b[0;34m.\u001b[0m\u001b[0mto\u001b[0m\u001b[0;34m(\u001b[0m\u001b[0m_device\u001b[0m\u001b[0;34m)\u001b[0m\u001b[0;34m,\u001b[0m \u001b[0mlabels\u001b[0m\u001b[0;34m.\u001b[0m\u001b[0mto\u001b[0m\u001b[0;34m(\u001b[0m\u001b[0m_device\u001b[0m\u001b[0;34m)\u001b[0m\u001b[0;34m\u001b[0m\u001b[0;34m\u001b[0m\u001b[0m\n",
            "\u001b[0;32m/usr/local/lib/python3.10/dist-packages/torch/utils/data/dataloader.py\u001b[0m in \u001b[0;36m__next__\u001b[0;34m(self)\u001b[0m\n\u001b[1;32m    629\u001b[0m                 \u001b[0;31m# TODO(https://github.com/pytorch/pytorch/issues/76750)\u001b[0m\u001b[0;34m\u001b[0m\u001b[0;34m\u001b[0m\u001b[0m\n\u001b[1;32m    630\u001b[0m                 \u001b[0mself\u001b[0m\u001b[0;34m.\u001b[0m\u001b[0m_reset\u001b[0m\u001b[0;34m(\u001b[0m\u001b[0;34m)\u001b[0m  \u001b[0;31m# type: ignore[call-arg]\u001b[0m\u001b[0;34m\u001b[0m\u001b[0;34m\u001b[0m\u001b[0m\n\u001b[0;32m--> 631\u001b[0;31m             \u001b[0mdata\u001b[0m \u001b[0;34m=\u001b[0m \u001b[0mself\u001b[0m\u001b[0;34m.\u001b[0m\u001b[0m_next_data\u001b[0m\u001b[0;34m(\u001b[0m\u001b[0;34m)\u001b[0m\u001b[0;34m\u001b[0m\u001b[0;34m\u001b[0m\u001b[0m\n\u001b[0m\u001b[1;32m    632\u001b[0m             \u001b[0mself\u001b[0m\u001b[0;34m.\u001b[0m\u001b[0m_num_yielded\u001b[0m \u001b[0;34m+=\u001b[0m \u001b[0;36m1\u001b[0m\u001b[0;34m\u001b[0m\u001b[0;34m\u001b[0m\u001b[0m\n\u001b[1;32m    633\u001b[0m             \u001b[0;32mif\u001b[0m \u001b[0mself\u001b[0m\u001b[0;34m.\u001b[0m\u001b[0m_dataset_kind\u001b[0m \u001b[0;34m==\u001b[0m \u001b[0m_DatasetKind\u001b[0m\u001b[0;34m.\u001b[0m\u001b[0mIterable\u001b[0m \u001b[0;32mand\u001b[0m\u001b[0;31m \u001b[0m\u001b[0;31m\\\u001b[0m\u001b[0;34m\u001b[0m\u001b[0;34m\u001b[0m\u001b[0m\n",
            "\u001b[0;32m/usr/local/lib/python3.10/dist-packages/torch/utils/data/dataloader.py\u001b[0m in \u001b[0;36m_next_data\u001b[0;34m(self)\u001b[0m\n\u001b[1;32m    673\u001b[0m     \u001b[0;32mdef\u001b[0m \u001b[0m_next_data\u001b[0m\u001b[0;34m(\u001b[0m\u001b[0mself\u001b[0m\u001b[0;34m)\u001b[0m\u001b[0;34m:\u001b[0m\u001b[0;34m\u001b[0m\u001b[0;34m\u001b[0m\u001b[0m\n\u001b[1;32m    674\u001b[0m         \u001b[0mindex\u001b[0m \u001b[0;34m=\u001b[0m \u001b[0mself\u001b[0m\u001b[0;34m.\u001b[0m\u001b[0m_next_index\u001b[0m\u001b[0;34m(\u001b[0m\u001b[0;34m)\u001b[0m  \u001b[0;31m# may raise StopIteration\u001b[0m\u001b[0;34m\u001b[0m\u001b[0;34m\u001b[0m\u001b[0m\n\u001b[0;32m--> 675\u001b[0;31m         \u001b[0mdata\u001b[0m \u001b[0;34m=\u001b[0m \u001b[0mself\u001b[0m\u001b[0;34m.\u001b[0m\u001b[0m_dataset_fetcher\u001b[0m\u001b[0;34m.\u001b[0m\u001b[0mfetch\u001b[0m\u001b[0;34m(\u001b[0m\u001b[0mindex\u001b[0m\u001b[0;34m)\u001b[0m  \u001b[0;31m# may raise StopIteration\u001b[0m\u001b[0;34m\u001b[0m\u001b[0;34m\u001b[0m\u001b[0m\n\u001b[0m\u001b[1;32m    676\u001b[0m         \u001b[0;32mif\u001b[0m \u001b[0mself\u001b[0m\u001b[0;34m.\u001b[0m\u001b[0m_pin_memory\u001b[0m\u001b[0;34m:\u001b[0m\u001b[0;34m\u001b[0m\u001b[0;34m\u001b[0m\u001b[0m\n\u001b[1;32m    677\u001b[0m             \u001b[0mdata\u001b[0m \u001b[0;34m=\u001b[0m \u001b[0m_utils\u001b[0m\u001b[0;34m.\u001b[0m\u001b[0mpin_memory\u001b[0m\u001b[0;34m.\u001b[0m\u001b[0mpin_memory\u001b[0m\u001b[0;34m(\u001b[0m\u001b[0mdata\u001b[0m\u001b[0;34m,\u001b[0m \u001b[0mself\u001b[0m\u001b[0;34m.\u001b[0m\u001b[0m_pin_memory_device\u001b[0m\u001b[0;34m)\u001b[0m\u001b[0;34m\u001b[0m\u001b[0;34m\u001b[0m\u001b[0m\n",
            "\u001b[0;32m/usr/local/lib/python3.10/dist-packages/torch/utils/data/_utils/fetch.py\u001b[0m in \u001b[0;36mfetch\u001b[0;34m(self, possibly_batched_index)\u001b[0m\n\u001b[1;32m     49\u001b[0m                 \u001b[0mdata\u001b[0m \u001b[0;34m=\u001b[0m \u001b[0mself\u001b[0m\u001b[0;34m.\u001b[0m\u001b[0mdataset\u001b[0m\u001b[0;34m.\u001b[0m\u001b[0m__getitems__\u001b[0m\u001b[0;34m(\u001b[0m\u001b[0mpossibly_batched_index\u001b[0m\u001b[0;34m)\u001b[0m\u001b[0;34m\u001b[0m\u001b[0;34m\u001b[0m\u001b[0m\n\u001b[1;32m     50\u001b[0m             \u001b[0;32melse\u001b[0m\u001b[0;34m:\u001b[0m\u001b[0;34m\u001b[0m\u001b[0;34m\u001b[0m\u001b[0m\n\u001b[0;32m---> 51\u001b[0;31m                 \u001b[0mdata\u001b[0m \u001b[0;34m=\u001b[0m \u001b[0;34m[\u001b[0m\u001b[0mself\u001b[0m\u001b[0;34m.\u001b[0m\u001b[0mdataset\u001b[0m\u001b[0;34m[\u001b[0m\u001b[0midx\u001b[0m\u001b[0;34m]\u001b[0m \u001b[0;32mfor\u001b[0m \u001b[0midx\u001b[0m \u001b[0;32min\u001b[0m \u001b[0mpossibly_batched_index\u001b[0m\u001b[0;34m]\u001b[0m\u001b[0;34m\u001b[0m\u001b[0;34m\u001b[0m\u001b[0m\n\u001b[0m\u001b[1;32m     52\u001b[0m         \u001b[0;32melse\u001b[0m\u001b[0;34m:\u001b[0m\u001b[0;34m\u001b[0m\u001b[0;34m\u001b[0m\u001b[0m\n\u001b[1;32m     53\u001b[0m             \u001b[0mdata\u001b[0m \u001b[0;34m=\u001b[0m \u001b[0mself\u001b[0m\u001b[0;34m.\u001b[0m\u001b[0mdataset\u001b[0m\u001b[0;34m[\u001b[0m\u001b[0mpossibly_batched_index\u001b[0m\u001b[0;34m]\u001b[0m\u001b[0;34m\u001b[0m\u001b[0;34m\u001b[0m\u001b[0m\n",
            "\u001b[0;32m/usr/local/lib/python3.10/dist-packages/torch/utils/data/_utils/fetch.py\u001b[0m in \u001b[0;36m<listcomp>\u001b[0;34m(.0)\u001b[0m\n\u001b[1;32m     49\u001b[0m                 \u001b[0mdata\u001b[0m \u001b[0;34m=\u001b[0m \u001b[0mself\u001b[0m\u001b[0;34m.\u001b[0m\u001b[0mdataset\u001b[0m\u001b[0;34m.\u001b[0m\u001b[0m__getitems__\u001b[0m\u001b[0;34m(\u001b[0m\u001b[0mpossibly_batched_index\u001b[0m\u001b[0;34m)\u001b[0m\u001b[0;34m\u001b[0m\u001b[0;34m\u001b[0m\u001b[0m\n\u001b[1;32m     50\u001b[0m             \u001b[0;32melse\u001b[0m\u001b[0;34m:\u001b[0m\u001b[0;34m\u001b[0m\u001b[0;34m\u001b[0m\u001b[0m\n\u001b[0;32m---> 51\u001b[0;31m                 \u001b[0mdata\u001b[0m \u001b[0;34m=\u001b[0m \u001b[0;34m[\u001b[0m\u001b[0mself\u001b[0m\u001b[0;34m.\u001b[0m\u001b[0mdataset\u001b[0m\u001b[0;34m[\u001b[0m\u001b[0midx\u001b[0m\u001b[0;34m]\u001b[0m \u001b[0;32mfor\u001b[0m \u001b[0midx\u001b[0m \u001b[0;32min\u001b[0m \u001b[0mpossibly_batched_index\u001b[0m\u001b[0;34m]\u001b[0m\u001b[0;34m\u001b[0m\u001b[0;34m\u001b[0m\u001b[0m\n\u001b[0m\u001b[1;32m     52\u001b[0m         \u001b[0;32melse\u001b[0m\u001b[0;34m:\u001b[0m\u001b[0;34m\u001b[0m\u001b[0;34m\u001b[0m\u001b[0m\n\u001b[1;32m     53\u001b[0m             \u001b[0mdata\u001b[0m \u001b[0;34m=\u001b[0m \u001b[0mself\u001b[0m\u001b[0;34m.\u001b[0m\u001b[0mdataset\u001b[0m\u001b[0;34m[\u001b[0m\u001b[0mpossibly_batched_index\u001b[0m\u001b[0;34m]\u001b[0m\u001b[0;34m\u001b[0m\u001b[0;34m\u001b[0m\u001b[0m\n",
            "\u001b[0;32m/usr/local/lib/python3.10/dist-packages/torchvision/datasets/folder.py\u001b[0m in \u001b[0;36m__getitem__\u001b[0;34m(self, index)\u001b[0m\n\u001b[1;32m    243\u001b[0m         \"\"\"\n\u001b[1;32m    244\u001b[0m         \u001b[0mpath\u001b[0m\u001b[0;34m,\u001b[0m \u001b[0mtarget\u001b[0m \u001b[0;34m=\u001b[0m \u001b[0mself\u001b[0m\u001b[0;34m.\u001b[0m\u001b[0msamples\u001b[0m\u001b[0;34m[\u001b[0m\u001b[0mindex\u001b[0m\u001b[0;34m]\u001b[0m\u001b[0;34m\u001b[0m\u001b[0;34m\u001b[0m\u001b[0m\n\u001b[0;32m--> 245\u001b[0;31m         \u001b[0msample\u001b[0m \u001b[0;34m=\u001b[0m \u001b[0mself\u001b[0m\u001b[0;34m.\u001b[0m\u001b[0mloader\u001b[0m\u001b[0;34m(\u001b[0m\u001b[0mpath\u001b[0m\u001b[0;34m)\u001b[0m\u001b[0;34m\u001b[0m\u001b[0;34m\u001b[0m\u001b[0m\n\u001b[0m\u001b[1;32m    246\u001b[0m         \u001b[0;32mif\u001b[0m \u001b[0mself\u001b[0m\u001b[0;34m.\u001b[0m\u001b[0mtransform\u001b[0m \u001b[0;32mis\u001b[0m \u001b[0;32mnot\u001b[0m \u001b[0;32mNone\u001b[0m\u001b[0;34m:\u001b[0m\u001b[0;34m\u001b[0m\u001b[0;34m\u001b[0m\u001b[0m\n\u001b[1;32m    247\u001b[0m             \u001b[0msample\u001b[0m \u001b[0;34m=\u001b[0m \u001b[0mself\u001b[0m\u001b[0;34m.\u001b[0m\u001b[0mtransform\u001b[0m\u001b[0;34m(\u001b[0m\u001b[0msample\u001b[0m\u001b[0;34m)\u001b[0m\u001b[0;34m\u001b[0m\u001b[0;34m\u001b[0m\u001b[0m\n",
            "\u001b[0;32m/usr/local/lib/python3.10/dist-packages/torchvision/datasets/folder.py\u001b[0m in \u001b[0;36mdefault_loader\u001b[0;34m(path)\u001b[0m\n\u001b[1;32m    282\u001b[0m         \u001b[0;32mreturn\u001b[0m \u001b[0maccimage_loader\u001b[0m\u001b[0;34m(\u001b[0m\u001b[0mpath\u001b[0m\u001b[0;34m)\u001b[0m\u001b[0;34m\u001b[0m\u001b[0;34m\u001b[0m\u001b[0m\n\u001b[1;32m    283\u001b[0m     \u001b[0;32melse\u001b[0m\u001b[0;34m:\u001b[0m\u001b[0;34m\u001b[0m\u001b[0;34m\u001b[0m\u001b[0m\n\u001b[0;32m--> 284\u001b[0;31m         \u001b[0;32mreturn\u001b[0m \u001b[0mpil_loader\u001b[0m\u001b[0;34m(\u001b[0m\u001b[0mpath\u001b[0m\u001b[0;34m)\u001b[0m\u001b[0;34m\u001b[0m\u001b[0;34m\u001b[0m\u001b[0m\n\u001b[0m\u001b[1;32m    285\u001b[0m \u001b[0;34m\u001b[0m\u001b[0m\n\u001b[1;32m    286\u001b[0m \u001b[0;34m\u001b[0m\u001b[0m\n",
            "\u001b[0;32m/usr/local/lib/python3.10/dist-packages/torchvision/datasets/folder.py\u001b[0m in \u001b[0;36mpil_loader\u001b[0;34m(path)\u001b[0m\n\u001b[1;32m    261\u001b[0m     \u001b[0;31m# open path as file to avoid ResourceWarning (https://github.com/python-pillow/Pillow/issues/835)\u001b[0m\u001b[0;34m\u001b[0m\u001b[0;34m\u001b[0m\u001b[0m\n\u001b[1;32m    262\u001b[0m     \u001b[0;32mwith\u001b[0m \u001b[0mopen\u001b[0m\u001b[0;34m(\u001b[0m\u001b[0mpath\u001b[0m\u001b[0;34m,\u001b[0m \u001b[0;34m\"rb\"\u001b[0m\u001b[0;34m)\u001b[0m \u001b[0;32mas\u001b[0m \u001b[0mf\u001b[0m\u001b[0;34m:\u001b[0m\u001b[0;34m\u001b[0m\u001b[0;34m\u001b[0m\u001b[0m\n\u001b[0;32m--> 263\u001b[0;31m         \u001b[0mimg\u001b[0m \u001b[0;34m=\u001b[0m \u001b[0mImage\u001b[0m\u001b[0;34m.\u001b[0m\u001b[0mopen\u001b[0m\u001b[0;34m(\u001b[0m\u001b[0mf\u001b[0m\u001b[0;34m)\u001b[0m\u001b[0;34m\u001b[0m\u001b[0;34m\u001b[0m\u001b[0m\n\u001b[0m\u001b[1;32m    264\u001b[0m         \u001b[0;32mreturn\u001b[0m \u001b[0mimg\u001b[0m\u001b[0;34m.\u001b[0m\u001b[0mconvert\u001b[0m\u001b[0;34m(\u001b[0m\u001b[0;34m\"RGB\"\u001b[0m\u001b[0;34m)\u001b[0m\u001b[0;34m\u001b[0m\u001b[0;34m\u001b[0m\u001b[0m\n\u001b[1;32m    265\u001b[0m \u001b[0;34m\u001b[0m\u001b[0m\n",
            "\u001b[0;32m/usr/local/lib/python3.10/dist-packages/PIL/Image.py\u001b[0m in \u001b[0;36mopen\u001b[0;34m(fp, mode, formats)\u001b[0m\n\u001b[1;32m   3234\u001b[0m         \u001b[0mexclusive_fp\u001b[0m \u001b[0;34m=\u001b[0m \u001b[0;32mTrue\u001b[0m\u001b[0;34m\u001b[0m\u001b[0;34m\u001b[0m\u001b[0m\n\u001b[1;32m   3235\u001b[0m \u001b[0;34m\u001b[0m\u001b[0m\n\u001b[0;32m-> 3236\u001b[0;31m     \u001b[0mprefix\u001b[0m \u001b[0;34m=\u001b[0m \u001b[0mfp\u001b[0m\u001b[0;34m.\u001b[0m\u001b[0mread\u001b[0m\u001b[0;34m(\u001b[0m\u001b[0;36m16\u001b[0m\u001b[0;34m)\u001b[0m\u001b[0;34m\u001b[0m\u001b[0;34m\u001b[0m\u001b[0m\n\u001b[0m\u001b[1;32m   3237\u001b[0m \u001b[0;34m\u001b[0m\u001b[0m\n\u001b[1;32m   3238\u001b[0m     \u001b[0mpreinit\u001b[0m\u001b[0;34m(\u001b[0m\u001b[0;34m)\u001b[0m\u001b[0;34m\u001b[0m\u001b[0;34m\u001b[0m\u001b[0m\n",
            "\u001b[0;31mKeyboardInterrupt\u001b[0m: "
          ]
        }
      ]
    },
    {
      "cell_type": "markdown",
      "source": [
        "#### Predict"
      ],
      "metadata": {
        "id": "nTlY6q6Ywq46"
      }
    },
    {
      "cell_type": "code",
      "source": [
        "import torch\n",
        "import torch.nn as nn\n",
        "import numpy as np\n",
        "import random\n",
        "from PIL import Image\n",
        "import torchvision.transforms as transforms\n",
        "import cv2\n",
        "import torchvision.models as models\n",
        "from PIL import Image\n",
        "import matplotlib.pyplot as plt\n",
        "import torchvision.transforms as transforms\n",
        "\n",
        "class ResizeAndPad(object):\n",
        "    def __init__(self, desired_size):\n",
        "        self.desired_size = desired_size\n",
        "\n",
        "    def __call__(self, image):\n",
        "        desired_width, desired_height = self.desired_size\n",
        "        original_width, original_height = image.size\n",
        "\n",
        "        # 비율 유지하여 리사이즈\n",
        "        ratio = min(desired_width / original_width, desired_height / original_height)\n",
        "        new_width = int(original_width * ratio)\n",
        "        new_height = int(original_height * ratio)\n",
        "        resized_image = image.resize((new_width, new_height), Image.LANCZOS)\n",
        "\n",
        "        # 새 이미지 생성 및 패딩\n",
        "        new_image = Image.new(\"RGB\", (desired_width, desired_height))\n",
        "        pad_left = (desired_width - new_width) // 2\n",
        "        pad_top = (desired_height - new_height) // 2\n",
        "        new_image.paste(resized_image, (pad_left, pad_top))\n",
        "\n",
        "        return new_image\n",
        "\n",
        "class PillModel(nn.Module):\n",
        "    # bulid cnn model\n",
        "    def __init__(self):\n",
        "        super(PillModel, self).__init__()\n",
        "\n",
        "        # 클래스 개수 정의\n",
        "        self.m_ClassNum = 20\n",
        "        # ResNet 모델 초기화\n",
        "        self.resnet = models.resnet18(pretrained=True)\n",
        "\n",
        "        # 마지막 fully connected layer의 출력 크기를 클래스 수에 맞게 조정\n",
        "        num_ftrs = self.resnet.fc.in_features\n",
        "        self.resnet.fc = nn.Linear(num_ftrs, self.m_ClassNum)\n",
        "\n",
        "\n",
        "    def forward(self, x):\n",
        "        # ResNet 모델의 forward pass 수행\n",
        "        x = self.resnet(x)\n",
        "        return x\n",
        "\n",
        "# 이미지 전처리 함수\n",
        "def preprocess_image(image_path):\n",
        "    transform = transforms.Compose([ResizeAndPad((500, 500)),\n",
        "                                           transforms.ToTensor()])\n",
        "    image = Image.open(image_path).convert(\"RGB\")  # 이미지를 RGB 형식으로 열기\n",
        "    image = transform(image).unsqueeze(0)         # 배치 차원 추가\n",
        "    return image\n",
        "\n",
        "# 모델 로드\n",
        "model = PillModel()\n",
        "checkpoint = torch.load(\"/content/gdrive/MyDrive/sample_model/20_class_model_random.pt\", map_location=torch.device('cpu'))  # 모델 파일 로드\n",
        "model.load_state_dict(checkpoint['model_state_dict'])  # 모델의 상태 사전 로드\n",
        "model.eval()\n",
        "\n",
        "# 클래스 이름 목록\n",
        "class_names = checkpoint['label_name']\n",
        "\n",
        "# 이미지 분류 함수\n",
        "def classify_image(image, model, class_names):\n",
        "\n",
        "\n",
        "    # 모델 추론\n",
        "    with torch.no_grad():\n",
        "        output = model(image)\n",
        "\n",
        "    # 확률로 변환\n",
        "    probabilities = torch.softmax(output, dim=1)\n",
        "\n",
        "    print(probabilities)\n",
        "    # 클래스 이름과 해당 확률 출력\n",
        "    for i, class_name in enumerate(class_names):\n",
        "        print(f\"{class_name}: {probabilities[0][i].item():.2f}\")\n",
        "\n",
        "    # 클래스 예측\n",
        "    _, predicted_class = torch.max(probabilities, 1)\n",
        "\n",
        "    # 클래스 이름 가져오기\n",
        "    class_name = class_names[predicted_class.item()]\n",
        "\n",
        "    return class_name, probabilities[0][predicted_class].item()\n",
        "\n",
        "# 이미지 분류\n",
        "image_path = \"/content/gdrive/MyDrive/test_200600116.jpg\"  # 이미지 파일 경로\n",
        "\n",
        "# 이미지 전처리\n",
        "image = preprocess_image(image_path)\n",
        "\n",
        "predicted_class, confidence = classify_image(image, model, class_names)\n",
        "\n",
        "# 결과 출력\n",
        "print(\"예측된 클래스:\", predicted_class)\n",
        "print(\"확신도:\", confidence)"
      ],
      "metadata": {
        "colab": {
          "base_uri": "https://localhost:8080/"
        },
        "id": "tskMvN65uj4l",
        "outputId": "473e3bf6-1227-47bf-982e-f018deccde86"
      },
      "execution_count": null,
      "outputs": [
        {
          "output_type": "stream",
          "name": "stdout",
          "text": [
            "tensor([[1.8850e-03, 1.7215e-05, 8.8273e-06, 3.2764e-05, 5.0358e-05, 2.0530e-05,\n",
            "         2.7430e-05, 5.7827e-04, 9.9700e-01, 8.9350e-05, 6.2422e-06, 2.2250e-06,\n",
            "         2.7124e-05, 9.3597e-06, 6.9638e-06, 1.3619e-05, 1.0528e-05, 7.3349e-06,\n",
            "         1.5508e-05, 1.8645e-04]])\n",
            "196000001: 0.00\n",
            "196500004: 0.00\n",
            "199502575: 0.00\n",
            "200008571: 0.00\n",
            "200402485: 0.00\n",
            "200402928: 0.00\n",
            "200404719: 0.00\n",
            "200410999: 0.00\n",
            "200600116: 1.00\n",
            "200702709: 0.00\n",
            "200702970: 0.00\n",
            "200806299: 0.00\n",
            "201207004: 0.00\n",
            "201403243: 0.00\n",
            "201503295: 0.00\n",
            "201701435: 0.00\n",
            "201705221: 0.00\n",
            "201901014: 0.00\n",
            "201906965: 0.00\n",
            "201907607: 0.00\n",
            "예측된 클래스: 200600116\n",
            "확신도: 0.9970049262046814\n"
          ]
        }
      ]
    },
    {
      "cell_type": "code",
      "source": [],
      "metadata": {
        "id": "MeRffKCD_Gpn"
      },
      "execution_count": null,
      "outputs": []
    },
    {
      "cell_type": "code",
      "source": [],
      "metadata": {
        "id": "O3TagTiXBZIc"
      },
      "execution_count": null,
      "outputs": []
    },
    {
      "cell_type": "code",
      "source": [],
      "metadata": {
        "id": "U35GKnX5Drng"
      },
      "execution_count": null,
      "outputs": []
    },
    {
      "cell_type": "code",
      "source": [],
      "metadata": {
        "id": "cB99GqZpGISf"
      },
      "execution_count": null,
      "outputs": []
    },
    {
      "cell_type": "code",
      "source": [],
      "metadata": {
        "id": "Cfw0ZMo7IQ3o"
      },
      "execution_count": null,
      "outputs": []
    },
    {
      "cell_type": "code",
      "source": [],
      "metadata": {
        "id": "N1u6ja_hKjWo"
      },
      "execution_count": null,
      "outputs": []
    },
    {
      "cell_type": "code",
      "source": [],
      "metadata": {
        "id": "UCXWlqhVM11p"
      },
      "execution_count": null,
      "outputs": []
    },
    {
      "cell_type": "code",
      "source": [],
      "metadata": {
        "id": "_yCb8jV1PIUl"
      },
      "execution_count": null,
      "outputs": []
    },
    {
      "cell_type": "code",
      "source": [],
      "metadata": {
        "id": "OHDI8vZURazc"
      },
      "execution_count": null,
      "outputs": []
    },
    {
      "cell_type": "code",
      "source": [],
      "metadata": {
        "id": "FaQE9jNeTtSm"
      },
      "execution_count": null,
      "outputs": []
    },
    {
      "cell_type": "code",
      "source": [],
      "metadata": {
        "id": "QMlzvYVYV_xk"
      },
      "execution_count": null,
      "outputs": []
    },
    {
      "cell_type": "code",
      "source": [],
      "metadata": {
        "id": "uVc1mpNh80Ke"
      },
      "execution_count": null,
      "outputs": []
    },
    {
      "cell_type": "code",
      "source": [],
      "metadata": {
        "id": "WE5fnoQu4PMn"
      },
      "execution_count": null,
      "outputs": []
    },
    {
      "cell_type": "code",
      "source": [],
      "metadata": {
        "id": "bvvKHiMR6hre"
      },
      "execution_count": null,
      "outputs": []
    },
    {
      "cell_type": "code",
      "source": [],
      "metadata": {
        "id": "01qc-ukAA38X"
      },
      "execution_count": null,
      "outputs": []
    },
    {
      "cell_type": "code",
      "source": [],
      "metadata": {
        "id": "ST82_JXSDUcB"
      },
      "execution_count": null,
      "outputs": []
    },
    {
      "cell_type": "code",
      "source": [],
      "metadata": {
        "id": "b5vUDyVCFm6f"
      },
      "execution_count": null,
      "outputs": []
    },
    {
      "cell_type": "code",
      "source": [],
      "metadata": {
        "id": "HBDiJBZAH5aB"
      },
      "execution_count": null,
      "outputs": []
    },
    {
      "cell_type": "code",
      "source": [],
      "metadata": {
        "id": "cgBLnYqWKL4h"
      },
      "execution_count": null,
      "outputs": []
    },
    {
      "cell_type": "code",
      "source": [],
      "metadata": {
        "id": "b175daKwMeX9"
      },
      "execution_count": null,
      "outputs": []
    },
    {
      "cell_type": "code",
      "source": [],
      "metadata": {
        "id": "iHeRNqi08pCh"
      },
      "execution_count": null,
      "outputs": []
    },
    {
      "cell_type": "code",
      "source": [],
      "metadata": {
        "id": "CKRwl7Ni-7hm"
      },
      "execution_count": null,
      "outputs": []
    },
    {
      "cell_type": "code",
      "source": [],
      "metadata": {
        "id": "XefrG9JjBOAe"
      },
      "execution_count": null,
      "outputs": []
    },
    {
      "cell_type": "code",
      "source": [],
      "metadata": {
        "id": "ly4c5PfnDgfY"
      },
      "execution_count": null,
      "outputs": []
    },
    {
      "cell_type": "code",
      "source": [],
      "metadata": {
        "id": "QqLB_MEYFy-X"
      },
      "execution_count": null,
      "outputs": []
    },
    {
      "cell_type": "code",
      "source": [],
      "metadata": {
        "id": "QwNyQgZMIFdo"
      },
      "execution_count": null,
      "outputs": []
    },
    {
      "cell_type": "code",
      "source": [],
      "metadata": {
        "id": "8W1ecvOZKX8Y"
      },
      "execution_count": null,
      "outputs": []
    },
    {
      "cell_type": "code",
      "source": [],
      "metadata": {
        "id": "Djc16ph1Mqbf"
      },
      "execution_count": null,
      "outputs": []
    },
    {
      "cell_type": "code",
      "source": [],
      "metadata": {
        "id": "XcvLjTZbO86Y"
      },
      "execution_count": null,
      "outputs": []
    },
    {
      "cell_type": "code",
      "source": [],
      "metadata": {
        "id": "D1KN1kz7RPZX"
      },
      "execution_count": null,
      "outputs": []
    },
    {
      "cell_type": "code",
      "source": [],
      "metadata": {
        "id": "jpQbyJDQTiEN"
      },
      "execution_count": null,
      "outputs": []
    },
    {
      "cell_type": "code",
      "source": [],
      "metadata": {
        "id": "pwgoOjlsV-jw"
      },
      "execution_count": null,
      "outputs": []
    },
    {
      "cell_type": "code",
      "source": [],
      "metadata": {
        "id": "qvXq7BRdYRCs"
      },
      "execution_count": null,
      "outputs": []
    },
    {
      "cell_type": "code",
      "source": [],
      "metadata": {
        "id": "Go0vOpE4ajhn"
      },
      "execution_count": null,
      "outputs": []
    },
    {
      "cell_type": "code",
      "source": [],
      "metadata": {
        "id": "GhfqdWlOc2AX"
      },
      "execution_count": null,
      "outputs": []
    },
    {
      "cell_type": "code",
      "source": [],
      "metadata": {
        "id": "oAy0UHOHfIgZ"
      },
      "execution_count": null,
      "outputs": []
    },
    {
      "cell_type": "code",
      "source": [],
      "metadata": {
        "id": "ZtUdqq7Hha-i"
      },
      "execution_count": null,
      "outputs": []
    },
    {
      "cell_type": "code",
      "source": [],
      "metadata": {
        "id": "Noi3kTfijtds"
      },
      "execution_count": null,
      "outputs": []
    },
    {
      "cell_type": "code",
      "source": [],
      "metadata": {
        "id": "a7lqr_UCl1wi"
      },
      "execution_count": null,
      "outputs": []
    },
    {
      "cell_type": "code",
      "source": [],
      "metadata": {
        "id": "TKP4uN8qoIPX"
      },
      "execution_count": null,
      "outputs": []
    },
    {
      "cell_type": "code",
      "source": [],
      "metadata": {
        "id": "dV0KnmKfqauf"
      },
      "execution_count": null,
      "outputs": []
    },
    {
      "cell_type": "code",
      "source": [],
      "metadata": {
        "id": "8J_pqv-ostNd"
      },
      "execution_count": null,
      "outputs": []
    },
    {
      "cell_type": "code",
      "source": [],
      "metadata": {
        "id": "M_ES86CRu_sY"
      },
      "execution_count": null,
      "outputs": []
    },
    {
      "cell_type": "code",
      "source": [],
      "metadata": {
        "id": "7pSkV5AXxcXk"
      },
      "execution_count": null,
      "outputs": []
    },
    {
      "cell_type": "code",
      "source": [],
      "metadata": {
        "id": "qPiIOkf1zkqq"
      },
      "execution_count": null,
      "outputs": []
    },
    {
      "cell_type": "code",
      "source": [],
      "metadata": {
        "id": "hVuS79lP13Jf"
      },
      "execution_count": null,
      "outputs": []
    },
    {
      "cell_type": "code",
      "source": [],
      "metadata": {
        "id": "UrfxxZbw4JoP"
      },
      "execution_count": null,
      "outputs": []
    },
    {
      "cell_type": "code",
      "source": [],
      "metadata": {
        "id": "DKPsRfvV6cHn"
      },
      "execution_count": null,
      "outputs": []
    },
    {
      "cell_type": "code",
      "source": [],
      "metadata": {
        "id": "eTqRg6pg8ume"
      },
      "execution_count": null,
      "outputs": []
    },
    {
      "cell_type": "code",
      "source": [],
      "metadata": {
        "id": "-mGVvV5I_LRw"
      },
      "execution_count": null,
      "outputs": []
    },
    {
      "cell_type": "code",
      "source": [],
      "metadata": {
        "id": "tXJwLf9jBdwy"
      },
      "execution_count": null,
      "outputs": []
    },
    {
      "cell_type": "code",
      "source": [],
      "metadata": {
        "id": "s7tose3FDwPd"
      },
      "execution_count": null,
      "outputs": []
    },
    {
      "cell_type": "code",
      "source": [],
      "metadata": {
        "id": "ZsW1_7e9GCul"
      },
      "execution_count": null,
      "outputs": []
    },
    {
      "cell_type": "code",
      "source": [],
      "metadata": {
        "id": "PqJqx8mXIVN2"
      },
      "execution_count": null,
      "outputs": []
    },
    {
      "cell_type": "code",
      "source": [],
      "metadata": {
        "id": "IUOphX7KKnst"
      },
      "execution_count": null,
      "outputs": []
    },
    {
      "cell_type": "code",
      "source": [],
      "metadata": {
        "id": "fyb0kJceM6Lj"
      },
      "execution_count": null,
      "outputs": []
    },
    {
      "cell_type": "code",
      "source": [],
      "metadata": {
        "id": "iZjlEL3FPMqn"
      },
      "execution_count": null,
      "outputs": []
    },
    {
      "cell_type": "code",
      "source": [],
      "metadata": {
        "id": "JaL3Ebl6RfJx"
      },
      "execution_count": null,
      "outputs": []
    },
    {
      "cell_type": "code",
      "source": [],
      "metadata": {
        "id": "fK7IP8krTxok"
      },
      "execution_count": null,
      "outputs": []
    },
    {
      "cell_type": "code",
      "source": [],
      "metadata": {
        "id": "HH9SXmTHWEHl"
      },
      "execution_count": null,
      "outputs": []
    },
    {
      "cell_type": "code",
      "source": [],
      "metadata": {
        "id": "IYyO7WE_YWmj"
      },
      "execution_count": null,
      "outputs": []
    },
    {
      "cell_type": "code",
      "source": [],
      "metadata": {
        "id": "QpfEXeDCapFj"
      },
      "execution_count": null,
      "outputs": []
    },
    {
      "cell_type": "code",
      "source": [],
      "metadata": {
        "id": "zUXreooUc7kv"
      },
      "execution_count": null,
      "outputs": []
    },
    {
      "cell_type": "code",
      "source": [],
      "metadata": {
        "id": "4pEQgzZufODp"
      },
      "execution_count": null,
      "outputs": []
    },
    {
      "cell_type": "code",
      "source": [],
      "metadata": {
        "id": "OMpAod0ghWWe"
      },
      "execution_count": null,
      "outputs": []
    },
    {
      "cell_type": "code",
      "source": [],
      "metadata": {
        "id": "LK1cEW4mjo1j"
      },
      "execution_count": null,
      "outputs": []
    },
    {
      "cell_type": "code",
      "source": [],
      "metadata": {
        "id": "P52dqy-Xl7Ug"
      },
      "execution_count": null,
      "outputs": []
    },
    {
      "cell_type": "code",
      "source": [],
      "metadata": {
        "id": "MXgENswnoNzT"
      },
      "execution_count": null,
      "outputs": []
    },
    {
      "cell_type": "code",
      "source": [],
      "metadata": {
        "id": "RG96ZjIbqgSa"
      },
      "execution_count": null,
      "outputs": []
    },
    {
      "cell_type": "code",
      "source": [],
      "metadata": {
        "id": "G8_Hlp9Xsyxh"
      },
      "execution_count": null,
      "outputs": []
    },
    {
      "cell_type": "code",
      "source": [],
      "metadata": {
        "id": "fl_TMTLyvFQY"
      },
      "execution_count": null,
      "outputs": []
    },
    {
      "cell_type": "code",
      "source": [],
      "metadata": {
        "id": "_Pxk4TprxXvX"
      },
      "execution_count": null,
      "outputs": []
    },
    {
      "cell_type": "code",
      "source": [],
      "metadata": {
        "id": "3LwpHF0wzqOY"
      },
      "execution_count": null,
      "outputs": []
    },
    {
      "cell_type": "code",
      "source": [],
      "metadata": {
        "id": "FexF4yCW18tk"
      },
      "execution_count": null,
      "outputs": []
    },
    {
      "cell_type": "code",
      "source": [],
      "metadata": {
        "id": "IVlRMJjiOw2n"
      },
      "execution_count": null,
      "outputs": []
    },
    {
      "cell_type": "code",
      "source": [],
      "metadata": {
        "id": "SGljj-7URDVo"
      },
      "execution_count": null,
      "outputs": []
    },
    {
      "cell_type": "code",
      "source": [],
      "metadata": {
        "id": "iSRj6pLBTV0m"
      },
      "execution_count": null,
      "outputs": []
    },
    {
      "cell_type": "code",
      "source": [],
      "metadata": {
        "id": "-97Q9WJbVoTi"
      },
      "execution_count": null,
      "outputs": []
    },
    {
      "cell_type": "code",
      "source": [],
      "metadata": {
        "id": "zMHqXjETX6yd"
      },
      "execution_count": null,
      "outputs": []
    },
    {
      "cell_type": "code",
      "source": [],
      "metadata": {
        "id": "L8lP2sbnaNRm"
      },
      "execution_count": null,
      "outputs": []
    },
    {
      "cell_type": "code",
      "source": [],
      "metadata": {
        "id": "FICC-rdGcfwi"
      },
      "execution_count": null,
      "outputs": []
    },
    {
      "cell_type": "code",
      "source": [],
      "metadata": {
        "id": "oXJ58seleyPm"
      },
      "execution_count": null,
      "outputs": []
    },
    {
      "cell_type": "code",
      "source": [],
      "metadata": {
        "id": "lDIQA5-zhEuk"
      },
      "execution_count": null,
      "outputs": []
    },
    {
      "cell_type": "code",
      "source": [],
      "metadata": {
        "id": "UGSnZ5HSjXNi"
      },
      "execution_count": null,
      "outputs": []
    },
    {
      "cell_type": "code",
      "source": [],
      "metadata": {
        "id": "EHc5jKf4lpsf"
      },
      "execution_count": null,
      "outputs": []
    },
    {
      "cell_type": "code",
      "source": [],
      "metadata": {
        "id": "WmxiM6fPn8Lj"
      },
      "execution_count": null,
      "outputs": []
    },
    {
      "cell_type": "code",
      "source": [],
      "metadata": {
        "id": "17hXsnH0qOqY"
      },
      "execution_count": null,
      "outputs": []
    },
    {
      "cell_type": "code",
      "source": [],
      "metadata": {
        "id": "J4NJUMuxshJn"
      },
      "execution_count": null,
      "outputs": []
    },
    {
      "cell_type": "code",
      "source": [],
      "metadata": {
        "id": "UoxwpU94uzoq"
      },
      "execution_count": null,
      "outputs": []
    },
    {
      "cell_type": "code",
      "source": [],
      "metadata": {
        "id": "yqv6MphoxGHf"
      },
      "execution_count": null,
      "outputs": []
    },
    {
      "cell_type": "code",
      "source": [],
      "metadata": {
        "id": "XcGpvjf5zYmr"
      },
      "execution_count": null,
      "outputs": []
    },
    {
      "cell_type": "code",
      "source": [],
      "metadata": {
        "id": "FGlkqH5_1rFh"
      },
      "execution_count": null,
      "outputs": []
    },
    {
      "cell_type": "code",
      "source": [],
      "metadata": {
        "id": "GPi_OkVK39kf"
      },
      "execution_count": null,
      "outputs": []
    },
    {
      "cell_type": "code",
      "source": [],
      "metadata": {
        "id": "RrnfY7D06QDb"
      },
      "execution_count": null,
      "outputs": []
    },
    {
      "cell_type": "code",
      "source": [],
      "metadata": {
        "id": "9QtKihpL8iif"
      },
      "execution_count": null,
      "outputs": []
    },
    {
      "cell_type": "code",
      "source": [],
      "metadata": {
        "id": "j9Ubhk_v-1B2"
      },
      "execution_count": null,
      "outputs": []
    },
    {
      "cell_type": "code",
      "source": [],
      "metadata": {
        "id": "3CYvOC9_BHgk"
      },
      "execution_count": null,
      "outputs": []
    },
    {
      "cell_type": "code",
      "source": [],
      "metadata": {
        "id": "oylo7uOWDZ_m"
      },
      "execution_count": null,
      "outputs": []
    },
    {
      "cell_type": "code",
      "source": [],
      "metadata": {
        "id": "cET8-6vYFseq"
      },
      "execution_count": null,
      "outputs": []
    },
    {
      "cell_type": "code",
      "source": [],
      "metadata": {
        "id": "-moiD-avH-9m"
      },
      "execution_count": null,
      "outputs": []
    },
    {
      "cell_type": "code",
      "source": [],
      "metadata": {
        "id": "vOBSJ41KKRcj"
      },
      "execution_count": null,
      "outputs": []
    },
    {
      "cell_type": "code",
      "source": [],
      "metadata": {
        "id": "JmDm0ZX6Mj7a"
      },
      "execution_count": null,
      "outputs": []
    },
    {
      "cell_type": "code",
      "source": [],
      "metadata": {
        "id": "b5XS74doO2ad"
      },
      "execution_count": null,
      "outputs": []
    },
    {
      "cell_type": "code",
      "source": [],
      "metadata": {
        "id": "hMCeq93PRI5v"
      },
      "execution_count": null,
      "outputs": []
    },
    {
      "cell_type": "code",
      "source": [],
      "metadata": {
        "id": "J-CfQSqZTbYh"
      },
      "execution_count": null,
      "outputs": []
    },
    {
      "cell_type": "code",
      "source": [],
      "metadata": {
        "id": "rVTAERsOVt3m"
      },
      "execution_count": null,
      "outputs": []
    },
    {
      "cell_type": "code",
      "source": [],
      "metadata": {
        "id": "COnh2eZmYAWh"
      },
      "execution_count": null,
      "outputs": []
    },
    {
      "cell_type": "code",
      "source": [],
      "metadata": {
        "id": "GlYUtQ_baS1h"
      },
      "execution_count": null,
      "outputs": []
    },
    {
      "cell_type": "code",
      "source": [],
      "metadata": {
        "id": "iTLgZYQkclUr"
      },
      "execution_count": null,
      "outputs": []
    },
    {
      "cell_type": "code",
      "source": [],
      "metadata": {
        "id": "_llVUc0ie3zf"
      },
      "execution_count": null,
      "outputs": []
    },
    {
      "cell_type": "code",
      "source": [],
      "metadata": {
        "id": "aU5tMVNnhAGf"
      },
      "execution_count": null,
      "outputs": []
    },
    {
      "cell_type": "code",
      "source": [],
      "metadata": {
        "id": "76P1ummWjSlr"
      },
      "execution_count": null,
      "outputs": []
    },
    {
      "cell_type": "code",
      "source": [],
      "metadata": {
        "id": "z732yvO-lvQg"
      },
      "execution_count": null,
      "outputs": []
    },
    {
      "cell_type": "code",
      "source": [],
      "metadata": {
        "id": "3g7tITCPoBvd"
      },
      "execution_count": null,
      "outputs": []
    },
    {
      "cell_type": "code",
      "source": [],
      "metadata": {
        "id": "HTiFVrVPqUOg"
      },
      "execution_count": null,
      "outputs": []
    },
    {
      "cell_type": "code",
      "source": [],
      "metadata": {
        "id": "kX40e_Lbsmt7"
      },
      "execution_count": null,
      "outputs": []
    },
    {
      "cell_type": "code",
      "source": [],
      "metadata": {
        "id": "BMTkfYpQu5Mp"
      },
      "execution_count": null,
      "outputs": []
    },
    {
      "cell_type": "code",
      "source": [],
      "metadata": {
        "id": "BauKGC0hxLr3"
      },
      "execution_count": null,
      "outputs": []
    },
    {
      "cell_type": "code",
      "source": [],
      "metadata": {
        "id": "peGzZC0tzeKn"
      },
      "execution_count": null,
      "outputs": []
    },
    {
      "cell_type": "code",
      "source": [],
      "metadata": {
        "id": "AAEFpsCi1wpp"
      },
      "execution_count": null,
      "outputs": []
    },
    {
      "cell_type": "code",
      "source": [],
      "metadata": {
        "id": "kq9mMnw-4DIs"
      },
      "execution_count": null,
      "outputs": []
    },
    {
      "cell_type": "code",
      "source": [],
      "metadata": {
        "id": "yxvWM94e6Vno"
      },
      "execution_count": null,
      "outputs": []
    },
    {
      "cell_type": "code",
      "source": [],
      "metadata": {
        "id": "FL7AjUFY8oGj"
      },
      "execution_count": null,
      "outputs": []
    },
    {
      "cell_type": "code",
      "source": [],
      "metadata": {
        "id": "1MLxbVQb-6ll"
      },
      "execution_count": null,
      "outputs": []
    },
    {
      "cell_type": "code",
      "source": [],
      "metadata": {
        "id": "PC4ldp5NBNEk"
      },
      "execution_count": null,
      "outputs": []
    },
    {
      "cell_type": "code",
      "source": [],
      "metadata": {
        "id": "2Ogwxu-zDfjj"
      },
      "execution_count": null,
      "outputs": []
    },
    {
      "cell_type": "code",
      "source": [],
      "metadata": {
        "id": "fe-GnlyjFyCk"
      },
      "execution_count": null,
      "outputs": []
    },
    {
      "cell_type": "code",
      "source": [],
      "metadata": {
        "id": "dytmUpE1IEhe"
      },
      "execution_count": null,
      "outputs": []
    },
    {
      "cell_type": "code",
      "source": [],
      "metadata": {
        "id": "v95T99pwKXAm"
      },
      "execution_count": null,
      "outputs": []
    },
    {
      "cell_type": "code",
      "source": [],
      "metadata": {
        "id": "XQcfxBtGMpfj"
      },
      "execution_count": null,
      "outputs": []
    },
    {
      "cell_type": "code",
      "source": [],
      "metadata": {
        "id": "3jY0jmsXO7-k"
      },
      "execution_count": null,
      "outputs": []
    },
    {
      "cell_type": "code",
      "source": [],
      "metadata": {
        "id": "9XPSBkpbROdt"
      },
      "execution_count": null,
      "outputs": []
    },
    {
      "cell_type": "code",
      "source": [],
      "metadata": {
        "id": "hjYJ8hszTg8q"
      },
      "execution_count": null,
      "outputs": []
    },
    {
      "cell_type": "code",
      "source": [],
      "metadata": {
        "id": "fDv6u9RpVzbe"
      },
      "execution_count": null,
      "outputs": []
    },
    {
      "cell_type": "code",
      "source": [],
      "metadata": {
        "id": "LmvwHAzcYF6p"
      },
      "execution_count": null,
      "outputs": []
    },
    {
      "cell_type": "code",
      "source": [],
      "metadata": {
        "id": "pmd3u7_YaYZk"
      },
      "execution_count": null,
      "outputs": []
    },
    {
      "cell_type": "code",
      "source": [],
      "metadata": {
        "id": "PVD8Wudlcq4n"
      },
      "execution_count": null,
      "outputs": []
    },
    {
      "cell_type": "code",
      "source": [],
      "metadata": {
        "id": "pY-tXS3ee9Xj"
      },
      "execution_count": null,
      "outputs": []
    },
    {
      "cell_type": "code",
      "source": [],
      "metadata": {
        "id": "KtWVoh4VhP2f"
      },
      "execution_count": null,
      "outputs": []
    },
    {
      "cell_type": "code",
      "source": [],
      "metadata": {
        "id": "WJMiKxq6jiVi"
      },
      "execution_count": null,
      "outputs": []
    },
    {
      "cell_type": "code",
      "source": [],
      "metadata": {
        "id": "IY-SDM3il00o"
      },
      "execution_count": null,
      "outputs": []
    },
    {
      "cell_type": "code",
      "source": [],
      "metadata": {
        "id": "Y_l_ZHVdoHTq"
      },
      "execution_count": null,
      "outputs": []
    },
    {
      "cell_type": "code",
      "source": [],
      "metadata": {
        "id": "rl2fwqYdqZyp"
      },
      "execution_count": null,
      "outputs": []
    },
    {
      "cell_type": "code",
      "source": [],
      "metadata": {
        "id": "1VIffT07ssRf"
      },
      "execution_count": null,
      "outputs": []
    },
    {
      "cell_type": "code",
      "source": [],
      "metadata": {
        "id": "RAj9hDDhu-wg"
      },
      "execution_count": null,
      "outputs": []
    },
    {
      "cell_type": "code",
      "source": [],
      "metadata": {
        "id": "eD2vfwzjxRPc"
      },
      "execution_count": null,
      "outputs": []
    },
    {
      "cell_type": "code",
      "source": [],
      "metadata": {
        "id": "pTcOiwJuzjuq"
      },
      "execution_count": null,
      "outputs": []
    },
    {
      "cell_type": "code",
      "source": [],
      "metadata": {
        "id": "VUbti0hj12Nm"
      },
      "execution_count": null,
      "outputs": []
    },
    {
      "cell_type": "code",
      "source": [],
      "metadata": {
        "id": "ieKjYZ5D4Isi"
      },
      "execution_count": null,
      "outputs": []
    },
    {
      "cell_type": "code",
      "source": [],
      "metadata": {
        "id": "YTRAvUKG6bLp"
      },
      "execution_count": null,
      "outputs": []
    },
    {
      "cell_type": "code",
      "source": [],
      "metadata": {
        "id": "2h-tntxn8tqr"
      },
      "execution_count": null,
      "outputs": []
    },
    {
      "cell_type": "code",
      "source": [],
      "metadata": {
        "id": "Tt7ZVqEz_AJl"
      },
      "execution_count": null,
      "outputs": []
    },
    {
      "cell_type": "code",
      "source": [],
      "metadata": {
        "id": "jbTfUYA8BSoe"
      },
      "execution_count": null,
      "outputs": []
    },
    {
      "cell_type": "code",
      "source": [],
      "metadata": {
        "id": "Rh2xR7uBDlHs"
      },
      "execution_count": null,
      "outputs": []
    },
    {
      "cell_type": "code",
      "source": [],
      "metadata": {
        "id": "QDBO-qQgF3mp"
      },
      "execution_count": null,
      "outputs": []
    },
    {
      "cell_type": "code",
      "source": [],
      "metadata": {
        "id": "jJfvulBrIKFu"
      },
      "execution_count": null,
      "outputs": []
    },
    {
      "cell_type": "code",
      "source": [],
      "metadata": {
        "id": "tFb62EhFKckp"
      },
      "execution_count": null,
      "outputs": []
    },
    {
      "cell_type": "code",
      "source": [],
      "metadata": {
        "id": "FF5PqNz-MvDf"
      },
      "execution_count": null,
      "outputs": []
    },
    {
      "cell_type": "code",
      "source": [],
      "metadata": {
        "id": "sYWJzYvOPBin"
      },
      "execution_count": null,
      "outputs": []
    },
    {
      "cell_type": "code",
      "source": [],
      "metadata": {
        "id": "trga5P-IRUBe"
      },
      "execution_count": null,
      "outputs": []
    },
    {
      "cell_type": "code",
      "source": [],
      "metadata": {
        "id": "oUUFQUyPTmgo"
      },
      "execution_count": null,
      "outputs": []
    },
    {
      "cell_type": "code",
      "source": [],
      "metadata": {
        "id": "-rVUoYqAV4_q"
      },
      "execution_count": null,
      "outputs": []
    },
    {
      "cell_type": "code",
      "source": [],
      "metadata": {
        "id": "eiAwkICLYLec"
      },
      "execution_count": null,
      "outputs": []
    },
    {
      "cell_type": "code",
      "source": [],
      "metadata": {
        "id": "fiphvADZad9h"
      },
      "execution_count": null,
      "outputs": []
    },
    {
      "cell_type": "code",
      "source": [],
      "metadata": {
        "id": "rXDbyY3IcmQi"
      },
      "execution_count": null,
      "outputs": []
    },
    {
      "cell_type": "code",
      "source": [],
      "metadata": {
        "id": "wRNREnU5e4vX"
      },
      "execution_count": null,
      "outputs": []
    },
    {
      "cell_type": "code",
      "source": [],
      "metadata": {
        "id": "YBJGUlubhLOl"
      },
      "execution_count": null,
      "outputs": []
    },
    {
      "cell_type": "code",
      "source": [],
      "metadata": {
        "id": "qzh4a-KXjdtk"
      },
      "execution_count": null,
      "outputs": []
    },
    {
      "cell_type": "code",
      "source": [],
      "metadata": {
        "id": "DdSfGfXqlwMV"
      },
      "execution_count": null,
      "outputs": []
    },
    {
      "cell_type": "code",
      "source": [],
      "metadata": {
        "id": "jgzfYvPFoCrf"
      },
      "execution_count": null,
      "outputs": []
    },
    {
      "cell_type": "code",
      "source": [],
      "metadata": {
        "id": "fz-tgxzOqVKj"
      },
      "execution_count": null,
      "outputs": []
    },
    {
      "cell_type": "code",
      "source": [],
      "metadata": {
        "id": "kGeGgm6Qsnpf"
      },
      "execution_count": null,
      "outputs": []
    },
    {
      "cell_type": "code",
      "source": [],
      "metadata": {
        "id": "8XAxQ77Cu6Ie"
      },
      "execution_count": null,
      "outputs": []
    },
    {
      "cell_type": "code",
      "source": [],
      "metadata": {
        "id": "1RiLSISPxMnT"
      },
      "execution_count": null,
      "outputs": []
    },
    {
      "cell_type": "code",
      "source": [],
      "metadata": {
        "id": "yhhd4HXWzfGc"
      },
      "execution_count": null,
      "outputs": []
    },
    {
      "cell_type": "code",
      "source": [],
      "metadata": {
        "id": "k5QUTK1l1xlg"
      },
      "execution_count": null,
      "outputs": []
    },
    {
      "cell_type": "code",
      "source": [],
      "metadata": {
        "id": "JgQSpChA4EEr"
      },
      "execution_count": null,
      "outputs": []
    },
    {
      "cell_type": "code",
      "source": [],
      "metadata": {
        "id": "yiWwfKV26Wjk"
      },
      "execution_count": null,
      "outputs": []
    },
    {
      "cell_type": "code",
      "source": [],
      "metadata": {
        "id": "oFLi45y3zJB7"
      },
      "execution_count": null,
      "outputs": []
    },
    {
      "cell_type": "code",
      "source": [],
      "metadata": {
        "id": "SNnN2jsDw2jE"
      },
      "execution_count": null,
      "outputs": []
    },
    {
      "cell_type": "code",
      "source": [],
      "metadata": {
        "id": "nKgRFnEeQzln"
      },
      "execution_count": null,
      "outputs": []
    },
    {
      "cell_type": "code",
      "source": [],
      "metadata": {
        "id": "Epln-F3PTGEi"
      },
      "execution_count": null,
      "outputs": []
    },
    {
      "cell_type": "code",
      "source": [],
      "metadata": {
        "id": "B2n-7BleVYjt"
      },
      "execution_count": null,
      "outputs": []
    },
    {
      "cell_type": "code",
      "source": [],
      "metadata": {
        "id": "6kbBiHFcXrCh"
      },
      "execution_count": null,
      "outputs": []
    },
    {
      "cell_type": "code",
      "source": [],
      "metadata": {
        "id": "zI3pl-IQZ9hb"
      },
      "execution_count": null,
      "outputs": []
    },
    {
      "cell_type": "code",
      "source": [],
      "metadata": {
        "id": "S91L4KJncQAi"
      },
      "execution_count": null,
      "outputs": []
    },
    {
      "cell_type": "code",
      "source": [],
      "metadata": {
        "id": "Nopdk_pyeifb"
      },
      "execution_count": null,
      "outputs": []
    },
    {
      "cell_type": "code",
      "source": [],
      "metadata": {
        "id": "gdCk_jgig0-o"
      },
      "execution_count": null,
      "outputs": []
    },
    {
      "cell_type": "code",
      "source": [],
      "metadata": {
        "id": "FNVSRnT3jHdm"
      },
      "execution_count": null,
      "outputs": []
    },
    {
      "cell_type": "code",
      "source": [],
      "metadata": {
        "id": "rOw02iVylZ8i"
      },
      "execution_count": null,
      "outputs": []
    },
    {
      "cell_type": "code",
      "source": [],
      "metadata": {
        "id": "5Ok5Loognsbj"
      },
      "execution_count": null,
      "outputs": []
    },
    {
      "cell_type": "code",
      "source": [],
      "metadata": {
        "id": "7k756CFRp-6s"
      },
      "execution_count": null,
      "outputs": []
    },
    {
      "cell_type": "code",
      "source": [],
      "metadata": {
        "id": "VHrfuzuVsRZp"
      },
      "execution_count": null,
      "outputs": []
    },
    {
      "cell_type": "code",
      "source": [],
      "metadata": {
        "id": "SBbjT9ZgOhGi"
      },
      "execution_count": null,
      "outputs": []
    },
    {
      "cell_type": "code",
      "source": [],
      "metadata": {
        "id": "5AwpycskMOnv"
      },
      "execution_count": null,
      "outputs": []
    },
    {
      "cell_type": "code",
      "source": [],
      "metadata": {
        "id": "PQDx2jjT1Vxn"
      },
      "execution_count": null,
      "outputs": []
    },
    {
      "cell_type": "code",
      "source": [],
      "metadata": {
        "id": "zBdoLaID3oQc"
      },
      "execution_count": null,
      "outputs": []
    },
    {
      "cell_type": "code",
      "source": [],
      "metadata": {
        "id": "ScAJ8Mq356vp"
      },
      "execution_count": null,
      "outputs": []
    },
    {
      "cell_type": "code",
      "source": [],
      "metadata": {
        "id": "0iodFMtH8NaG"
      },
      "execution_count": null,
      "outputs": []
    },
    {
      "cell_type": "code",
      "source": [],
      "metadata": {
        "id": "WPz_dghA-f5I"
      },
      "execution_count": null,
      "outputs": []
    },
    {
      "cell_type": "code",
      "source": [],
      "metadata": {
        "id": "g-OvH0zIAyYI"
      },
      "execution_count": null,
      "outputs": []
    },
    {
      "cell_type": "code",
      "source": [],
      "metadata": {
        "id": "y0E3gaYaDErr"
      },
      "execution_count": null,
      "outputs": []
    },
    {
      "cell_type": "code",
      "source": [],
      "metadata": {
        "id": "knl5v7gLFXKV"
      },
      "execution_count": null,
      "outputs": []
    },
    {
      "cell_type": "code",
      "source": [],
      "metadata": {
        "id": "6cvlxHtBHppf"
      },
      "execution_count": null,
      "outputs": []
    },
    {
      "cell_type": "code",
      "source": [],
      "metadata": {
        "id": "1pSTmWE0J8If"
      },
      "execution_count": null,
      "outputs": []
    },
    {
      "cell_type": "code",
      "source": [],
      "metadata": {
        "id": "ayh0SmB1sL1g"
      },
      "execution_count": null,
      "outputs": []
    },
    {
      "cell_type": "code",
      "source": [],
      "metadata": {
        "id": "aFyFjszkueUk"
      },
      "execution_count": null,
      "outputs": []
    },
    {
      "cell_type": "code",
      "source": [],
      "metadata": {
        "id": "_uY2SQAlwwzZ"
      },
      "execution_count": null,
      "outputs": []
    },
    {
      "cell_type": "code",
      "source": [],
      "metadata": {
        "id": "x8ospoqZzDSm"
      },
      "execution_count": null,
      "outputs": []
    },
    {
      "cell_type": "code",
      "source": [],
      "metadata": {
        "id": "BulSqYNxlUYc"
      },
      "execution_count": null,
      "outputs": []
    },
    {
      "cell_type": "code",
      "source": [],
      "metadata": {
        "id": "YwW0ANJInm3d"
      },
      "execution_count": null,
      "outputs": []
    },
    {
      "cell_type": "code",
      "source": [],
      "metadata": {
        "id": "Ow8ZLvuPp5Wb"
      },
      "execution_count": null,
      "outputs": []
    },
    {
      "cell_type": "code",
      "source": [],
      "metadata": {
        "id": "DLXRKL-WDwV7"
      },
      "execution_count": null,
      "outputs": []
    },
    {
      "cell_type": "code",
      "source": [],
      "metadata": {
        "id": "IXmnnIMYFRmS"
      },
      "execution_count": null,
      "outputs": []
    },
    {
      "cell_type": "code",
      "source": [],
      "metadata": {
        "id": "sSgI_x7mHkFX"
      },
      "execution_count": null,
      "outputs": []
    },
    {
      "cell_type": "code",
      "source": [],
      "metadata": {
        "id": "AMQnagsoJ2kb"
      },
      "execution_count": null,
      "outputs": []
    },
    {
      "cell_type": "code",
      "source": [],
      "metadata": {
        "id": "tlF6h1quMJDU"
      },
      "execution_count": null,
      "outputs": []
    },
    {
      "cell_type": "code",
      "source": [],
      "metadata": {
        "id": "Z5Nq-QmtObiV"
      },
      "execution_count": null,
      "outputs": []
    },
    {
      "cell_type": "code",
      "source": [],
      "metadata": {
        "id": "zOTCG8yJQuBV"
      },
      "execution_count": null,
      "outputs": []
    },
    {
      "cell_type": "code",
      "source": [],
      "metadata": {
        "id": "mjso_jpKTAgV"
      },
      "execution_count": null,
      "outputs": []
    },
    {
      "cell_type": "code",
      "source": [],
      "metadata": {
        "id": "O2Ns1BctVS_c"
      },
      "execution_count": null,
      "outputs": []
    },
    {
      "cell_type": "code",
      "source": [],
      "metadata": {
        "id": "S6LCOFDxXlec"
      },
      "execution_count": null,
      "outputs": []
    },
    {
      "cell_type": "code",
      "source": [],
      "metadata": {
        "id": "IN3TwVG9Z39e"
      },
      "execution_count": null,
      "outputs": []
    },
    {
      "cell_type": "code",
      "source": [],
      "metadata": {
        "id": "0e59yRU1cKci"
      },
      "execution_count": null,
      "outputs": []
    },
    {
      "cell_type": "code",
      "source": [],
      "metadata": {
        "id": "pr4A2scbec7d"
      },
      "execution_count": null,
      "outputs": []
    },
    {
      "cell_type": "code",
      "source": [],
      "metadata": {
        "id": "43djwGv3gval"
      },
      "execution_count": null,
      "outputs": []
    },
    {
      "cell_type": "code",
      "source": [],
      "metadata": {
        "id": "smnkbxF0jB5n"
      },
      "execution_count": null,
      "outputs": []
    }
  ]
}